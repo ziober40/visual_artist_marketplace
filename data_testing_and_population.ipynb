{
 "cells": [
  {
   "cell_type": "code",
   "execution_count": 115,
   "id": "c1913ac3",
   "metadata": {},
   "outputs": [],
   "source": [
    "import requests\n",
    "import string\n",
    "import random\n",
    "import pandas as pd\n",
    "import qgrid\n",
    "show = qgrid.show_grid\n",
    "base_url = \"http://127.0.0.1:8000/vam/\""
   ]
  },
  {
   "cell_type": "code",
   "execution_count": 163,
   "id": "cceaa11a",
   "metadata": {},
   "outputs": [],
   "source": [
    "def get_all(model,base_url=\"http://127.0.0.1:8000/vam/\"):\n",
    "\n",
    "    url = base_url+model+'/list'\n",
    "    response = requests.get(url)\n",
    "    \n",
    "    if response.status_code == 200:\n",
    "        df = pd.DataFrame(response.json())\n",
    "        \n",
    "        if(len(df)==0):\n",
    "            print(\"response is empty\")\n",
    "            return None\n",
    "        \n",
    "        df = df.set_index(f'{model}_id')\n",
    "        return df\n",
    "    else:\n",
    "        print(\"some error\")\n",
    "        \n",
    "def generate_string(length = 20):\n",
    "    return ''.join([random.choice(string.ascii_letters) for n in range(length)])\n",
    "\n",
    "def get_random_side():\n",
    "    return random.choice(['buy','sell'])\n",
    "\n",
    "def add_random_artwork(n=1,base_url=\"http://127.0.0.1:8000/vam/\"):\n",
    "    for i in range(n):\n",
    "        data = {\n",
    "            \"description_id\": random.randint(100,1500),\n",
    "        }\n",
    "        url = base_url + \"artwork/add\"\n",
    "        response = requests.post(url, json=data)\n",
    "        # Handle the response\n",
    "        if response.status_code != 200:\n",
    "            print(response.json())\n",
    "    return\n",
    "\n",
    "def add_random_user(n=1,base_url=\"http://127.0.0.1:8000/vam/\"):\n",
    "    for i in range(n):\n",
    "        data = {\n",
    "            \"firstname\": generate_string(12),\n",
    "            \"lastname\": generate_string(20),\n",
    "        }\n",
    "        url = base_url + \"user/add\"\n",
    "        response = requests.post(url, json=data)\n",
    "        # Handle the response\n",
    "        if response.status_code != 200:\n",
    "            print(response.json())\n",
    "    return\n",
    "\n",
    "        \n",
    "def add_order(user_id,artwork_id, price, direction, base_url=\"http://127.0.0.1:8000/vam/\"):\n",
    "    data = {\n",
    "        \"user_id\": int(user_id),\n",
    "        \"artwork_id\": int(artwork_id),\n",
    "        \"price\": int(price),\n",
    "        \"direction\": direction\n",
    "    }\n",
    "    \n",
    "    url = base_url + \"order/add\"\n",
    "    \n",
    "    response = requests.post(url, json=data)\n",
    "    # Handle the response\n",
    "    if response.status_code != 200:\n",
    "        print(response.json())\n",
    "    \n",
    "    return\n",
    "\n",
    "def add_transaction(price, buy_order_id, sell_order_id, base_url=\"http://127.0.0.1:8000/vam/\"):\n",
    "    data = {\n",
    "        \"price\": int(price),\n",
    "        \"buy_order_id\": int(buy_order_id),\n",
    "        \"sell_order_id\": int(sell_order_id)\n",
    "    }\n",
    "    \n",
    "    url = base_url + \"transaction/add\"\n",
    "    \n",
    "    response = requests.post(url, json=data)\n",
    "    # Handle the response\n",
    "    if response.status_code != 200:\n",
    "        print(response.json())\n",
    "    \n",
    "    return\n",
    "\n",
    "def add_random_transaction(n=1,base_url=\"http://127.0.0.1:8000/vam/\"):\n",
    "    artworks_ids = get_all('artwork').index.values\n",
    "    artwork_id = random.choice(artworks_ids)\n",
    "    price = random.randint(500,1500)\n",
    "    orders = get_all('order')\n",
    "    \n",
    "    buy_id = random.choice(orders[orders['artwork_id']==artwork_id].index.values)\n",
    "    sell_id = random.choice(orders[orders['artwork_id']==artwork_id].index.values)\n",
    "    price = random.randint(500,1500) \n",
    "    \n",
    "    add_transaction(price, buy_id, sell_id)\n",
    "    \n",
    "\n",
    "def add_random_order(n=1,base_url=\"http://127.0.0.1:8000/vam/\"):\n",
    "    \n",
    "    user_ids = get_all('user').index.values\n",
    "    artworks_ids = get_all('artwork').index.values\n",
    "    \n",
    "    for i in range(n):\n",
    "        user_id = random.choice(user_ids)\n",
    "        artwork_id = random.choice(artworks_ids)\n",
    "        price = random.randint(500,1500) \n",
    "        side = get_random_side()\n",
    "        \n",
    "        add_order(user_id,artwork_id, price, side)\n",
    "    \n"
   ]
  },
  {
   "cell_type": "code",
   "execution_count": 234,
   "id": "3756f78c",
   "metadata": {},
   "outputs": [
    {
     "data": {
      "application/vnd.jupyter.widget-view+json": {
       "model_id": "051ae443259e490f85c0b0a3f705181c",
       "version_major": 2,
       "version_minor": 0
      },
      "text/plain": [
       "QgridWidget(grid_options={'fullWidthRows': True, 'syncColumnCellResize': True, 'forceFitColumns': True, 'defau…"
      ]
     },
     "metadata": {},
     "output_type": "display_data"
    }
   ],
   "source": [
    "show(get_all('order'))"
   ]
  },
  {
   "cell_type": "code",
   "execution_count": 233,
   "id": "dfec0c60",
   "metadata": {
    "scrolled": true
   },
   "outputs": [
    {
     "data": {
      "application/vnd.jupyter.widget-view+json": {
       "model_id": "aefa654894ca4303a659c67c813e27ba",
       "version_major": 2,
       "version_minor": 0
      },
      "text/plain": [
       "QgridWidget(grid_options={'fullWidthRows': True, 'syncColumnCellResize': True, 'forceFitColumns': True, 'defau…"
      ]
     },
     "metadata": {},
     "output_type": "display_data"
    }
   ],
   "source": [
    "show(get_all('transaction')) "
   ]
  },
  {
   "cell_type": "code",
   "execution_count": 191,
   "id": "268b0b82",
   "metadata": {},
   "outputs": [],
   "source": []
  }
 ],
 "metadata": {
  "kernelspec": {
   "display_name": "Python 3 (ipykernel)",
   "language": "python",
   "name": "python3"
  },
  "language_info": {
   "codemirror_mode": {
    "name": "ipython",
    "version": 3
   },
   "file_extension": ".py",
   "mimetype": "text/x-python",
   "name": "python",
   "nbconvert_exporter": "python",
   "pygments_lexer": "ipython3",
   "version": "3.9.13"
  }
 },
 "nbformat": 4,
 "nbformat_minor": 5
}
